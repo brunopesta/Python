{
 "cells": [
  {
   "cell_type": "markdown",
   "id": "b015a19f",
   "metadata": {},
   "source": [
    "# Actividad 1 por Python plus\n"
   ]
  },
  {
   "cell_type": "markdown",
   "id": "b0d0ad1d",
   "metadata": {},
   "source": [
    "## Parte I: resolvé el siguiente desafío:"
   ]
  },
  {
   "cell_type": "markdown",
   "id": "09be642c",
   "metadata": {},
   "source": [
    "EJERCICIO 13: dado el archivo denominado [TOTAL_nuevo.csv](https://archivos.linti.unlp.edu.ar/index.php/s/7zTP1JtN2KKTqYu) que contiene la actividad realizada en las clases  de la materia a través de catedras.linti, se desea imprimir los tres usuarios con mayor actividad en el curso. "
   ]
  },
  {
   "cell_type": "code",
   "execution_count": null,
   "id": "5021bb7c",
   "metadata": {},
   "outputs": [],
   "source": [
    "#Solución //Bruno Pestana Carrusca// (dejo mi nombre por las dudas!)\n",
    "import csv\n",
    "from collections import Counter\n",
    "\n",
    "\n",
    "ruta_archivo = 'C:\\\\Users\\\\Bruno\\\\OneDrive\\\\Escritorio\\\\Facultadf\\\\sem-py\\\\Python\\\\Actividades\\\\Actividad 1\\\\TOTAL_nuevo.csv'\n",
    "\n",
    "archivo = open(ruta_archivo,\"r\", encoding='utf8')\n",
    "\n",
    "csvreader = csv.reader(archivo, delimiter=',')\n",
    "encabezado = next(csvreader)\n",
    "\n",
    "def filtrar():\n",
    "    lista_usuarios=[]\n",
    "    for linea in csvreader:\n",
    "        lista_usuarios.append(linea[1])\n",
    "    return lista_usuarios\n",
    "\n",
    "def imprimir_3(list,c):\n",
    "    mas_comunes = c.most_common(3)\n",
    "    print('Los mas comunes fueron')\n",
    "    for i in range(3):\n",
    "        print(f'{mas_comunes[i][0]:<18}')\n",
    "\n",
    "\n",
    "\n",
    "lista_us = filtrar()\n",
    "c = Counter(lista_us)\n",
    "imprimir_3(lista_us,c)\n",
    "\n"
   ]
  }
 ],
 "metadata": {
  "kernelspec": {
   "display_name": "Python 3 (ipykernel)",
   "language": "python",
   "name": "python3"
  },
  "language_info": {
   "codemirror_mode": {
    "name": "ipython",
    "version": 3
   },
   "file_extension": ".py",
   "mimetype": "text/x-python",
   "name": "python",
   "nbconvert_exporter": "python",
   "pygments_lexer": "ipython3",
   "version": "3.10.4"
  }
 },
 "nbformat": 4,
 "nbformat_minor": 5
}
