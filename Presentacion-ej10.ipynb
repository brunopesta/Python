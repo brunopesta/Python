{
  "metadata": {
    "language_info": {
      "codemirror_mode": {
        "name": "python",
        "version": 3
      },
      "file_extension": ".py",
      "mimetype": "text/x-python",
      "name": "python",
      "nbconvert_exporter": "python",
      "pygments_lexer": "ipython3",
      "version": "3.8"
    },
    "kernelspec": {
      "name": "python",
      "display_name": "Pyolite",
      "language": "python"
    }
  },
  "nbformat_minor": 4,
  "nbformat": 4,
  "cells": [
    {
      "cell_type": "markdown",
      "source": "## Bruno Pestana Carrusca\n",
      "metadata": {}
    },
    {
      "cell_type": "markdown",
      "source": "# Enunciado\n> **10** . Trabajando con los contenidos de los archivos que pueden acceder en el curso:\n• nombres\n• eval1\n5\n• eval2\nManipule estos archivos para realizar lo siguiente:\n• Generar una estructura con los nombres de los estudiantes y la suma de ambas notas.\n• Calcular el promedio de las notas totales e informar que alumnos obtuvieron menos que el\npromedio.\n",
      "metadata": {}
    },
    {
      "cell_type": "markdown",
      "source": "## CrearEstrucutra()\n\n>lo que hace es abrir los 3 archivos solicitados por el enunciado, los vamos\na guardar en una tupla, ya que estos valores no van a modificarse, se lee de cada archivo el nombre y nota del alumno,\ne guardamos todo en una lista\n",
      "metadata": {}
    },
    {
      "cell_type": "code",
      "source": "def CrearEstrucutra():\n    with open(r\"sem-py\\Python\\Practica\\Practica2\\eval1.txt\") as arch_eval1:\n        arch_eval1 = arch_eval1.read()\n    with open(r\"sem-py\\Python\\Practica\\Practica2\\eval2.txt\") as archivo_evaluacion2:\n        arch_eval2 = archivo_evaluacion2.read()\n    with open (r\"sem-py\\Python\\Practica\\Practica2\\nombres_1(1).txt\", encoding = 'utf8') as arch_nombres:\n        nombres = arch_nombres.read()\n\n    nicknames = nombres.replace(\",\", \"\").replace(\"'\", \"\").lower().split()\n    eva1 = arch_eval1.replace(\",\", \"\").split()\n    eva2 = arch_eval2.replace(\",\", \"\").split()\n\n    lista = []\n    for n in range(len(nicknames)):\n        nota = 0\n        nota += int(eva1[n])\n        nota += int(eva2[n])\n        lista.append((nicknames[n],nota))\n    return lista",
      "metadata": {
        "trusted": true
      },
      "execution_count": 16,
      "outputs": []
    },
    {
      "cell_type": "markdown",
      "source": "### Calcular Promedio",
      "metadata": {}
    },
    {
      "cell_type": "markdown",
      "source": "> Recorremos la lista que creamos en la funcion anterior, sumando la nota de todos los alumnos, despues de eso se divide por la longitud de la lista, preguntando antes si nuestra lista esta vacia.",
      "metadata": {}
    },
    {
      "cell_type": "code",
      "source": " def calcularProm(lista):\n    cant_tot = 0\n    for n in range(len(lista)):\n        cant_tot += lista[n][1]\n    prom=0\n    if (len(lista) != 0):\n        prom = (cant_tot / len(lista))\n    else:\n        print(\"Esta vacia tun lista buen senior\")\n    return prom",
      "metadata": {
        "trusted": true
      },
      "execution_count": 17,
      "outputs": []
    },
    {
      "cell_type": "markdown",
      "source": "### Calcular los Alumnos con menor nota que el promedio",
      "metadata": {}
    },
    {
      "cell_type": "markdown",
      "source": "> Aca vamos a recorrer de vuelta la estructura con todos los alumnos, pero preguntando \nsi la nota del alumno es menor que la del promedio, y vamos agregando a esos alumnos en \nuna nueva lista",
      "metadata": {}
    },
    {
      "cell_type": "code",
      "source": "def calcularBajoPromedio(lista,prom):\n    alumnos_bajoprom = []\n    for n in range(len(lista)):\n        if (lista[n][1] < prom):\n            alumnos_bajoprom.append(lista[n][0])\n    return alumnos_bajoprom",
      "metadata": {
        "trusted": true
      },
      "execution_count": 18,
      "outputs": []
    },
    {
      "cell_type": "markdown",
      "source": "### Programa Principal\n",
      "metadata": {}
    },
    {
      "cell_type": "markdown",
      "source": "> Invocamos en el programa principal, dentro de un print con el format, no tenemos que usar variables condicionales, y esto nos permite una mayor legibilidad de codigo, primero informamos el promedio y acto seguido los alumnos con nota por debajo del promedio",
      "metadata": {}
    },
    {
      "cell_type": "code",
      "source": "lista_estructura = CrearEstrucutra()\n\nprint(\n    f'El promedio de las notas es: {(\"{0:.2f}\".format(calcularProm(lista_estructura)))}\\nLos alumnos que quedaron por debajo del promedio son: {calcularBajoPromedio(lista_estructura,calcularProm(lista_estructura))}')",
      "metadata": {
        "trusted": true
      },
      "execution_count": 19,
      "outputs": [
        {
          "ename": "<class 'FileNotFoundError'>",
          "evalue": "[Errno 44] No such file or directory: 'sem-py\\\\Python\\\\Practica\\\\Practica2\\\\eval1.txt'",
          "traceback": [
            "\u001b[0;31m---------------------------------------------------------------------------\u001b[0m",
            "\u001b[0;31mFileNotFoundError\u001b[0m                         Traceback (most recent call last)",
            "Input \u001b[0;32mIn [19]\u001b[0m, in \u001b[0;36m<cell line: 1>\u001b[0;34m()\u001b[0m\n\u001b[0;32m----> 1\u001b[0m lista_estructura \u001b[38;5;241m=\u001b[39m \u001b[43mCrearEstrucutra\u001b[49m\u001b[43m(\u001b[49m\u001b[43m)\u001b[49m\n\u001b[1;32m      3\u001b[0m \u001b[38;5;28mprint\u001b[39m(\n\u001b[1;32m      4\u001b[0m     \u001b[38;5;124mf\u001b[39m\u001b[38;5;124m'\u001b[39m\u001b[38;5;124mEl promedio de las notas es: \u001b[39m\u001b[38;5;132;01m{\u001b[39;00m(\u001b[38;5;124m\"\u001b[39m\u001b[38;5;132;01m{0:.2f}\u001b[39;00m\u001b[38;5;124m\"\u001b[39m\u001b[38;5;241m.\u001b[39mformat(calcularProm(lista_estructura)))\u001b[38;5;132;01m}\u001b[39;00m\u001b[38;5;130;01m\\n\u001b[39;00m\u001b[38;5;124mLos alumnos que quedaron por debajo del promedio son: \u001b[39m\u001b[38;5;132;01m{\u001b[39;00mcalcularBajoPromedio(lista_estructura,calcularProm(lista_estructura))\u001b[38;5;132;01m}\u001b[39;00m\u001b[38;5;124m'\u001b[39m)\n",
            "Input \u001b[0;32mIn [16]\u001b[0m, in \u001b[0;36mCrearEstrucutra\u001b[0;34m()\u001b[0m\n\u001b[1;32m      1\u001b[0m \u001b[38;5;28;01mdef\u001b[39;00m \u001b[38;5;21mCrearEstrucutra\u001b[39m():\n\u001b[0;32m----> 2\u001b[0m     \u001b[38;5;28;01mwith\u001b[39;00m \u001b[38;5;28;43mopen\u001b[39;49m\u001b[43m(\u001b[49m\u001b[38;5;124;43mr\u001b[39;49m\u001b[38;5;124;43m\"\u001b[39;49m\u001b[38;5;124;43msem-py\u001b[39;49m\u001b[38;5;124;43m\\\u001b[39;49m\u001b[38;5;124;43mPython\u001b[39;49m\u001b[38;5;124;43m\\\u001b[39;49m\u001b[38;5;124;43mPractica\u001b[39;49m\u001b[38;5;124;43m\\\u001b[39;49m\u001b[38;5;124;43mPractica2\u001b[39;49m\u001b[38;5;124;43m\\\u001b[39;49m\u001b[38;5;124;43meval1.txt\u001b[39;49m\u001b[38;5;124;43m\"\u001b[39;49m\u001b[43m)\u001b[49m \u001b[38;5;28;01mas\u001b[39;00m arch_eval1:\n\u001b[1;32m      3\u001b[0m         arch_eval1 \u001b[38;5;241m=\u001b[39m arch_eval1\u001b[38;5;241m.\u001b[39mread()\n\u001b[1;32m      4\u001b[0m     \u001b[38;5;28;01mwith\u001b[39;00m \u001b[38;5;28mopen\u001b[39m(\u001b[38;5;124mr\u001b[39m\u001b[38;5;124m\"\u001b[39m\u001b[38;5;124msem-py\u001b[39m\u001b[38;5;124m\\\u001b[39m\u001b[38;5;124mPython\u001b[39m\u001b[38;5;124m\\\u001b[39m\u001b[38;5;124mPractica\u001b[39m\u001b[38;5;124m\\\u001b[39m\u001b[38;5;124mPractica2\u001b[39m\u001b[38;5;124m\\\u001b[39m\u001b[38;5;124meval2.txt\u001b[39m\u001b[38;5;124m\"\u001b[39m) \u001b[38;5;28;01mas\u001b[39;00m archivo_evaluacion2:\n",
            "\u001b[0;31mFileNotFoundError\u001b[0m: [Errno 44] No such file or directory: 'sem-py\\\\Python\\\\Practica\\\\Practica2\\\\eval1.txt'"
          ],
          "output_type": "error"
        }
      ]
    },
    {
      "cell_type": "code",
      "source": "",
      "metadata": {},
      "execution_count": null,
      "outputs": []
    }
  ]
}